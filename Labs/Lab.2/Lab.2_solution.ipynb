{
 "cells": [
  {
   "cell_type": "markdown",
   "metadata": {},
   "source": [
    "## Lab 2- Tic Tac Toe\n",
    "\n",
    "In this lab your will build a n x n Tic Tac Toe game. As you do the exercises, make sure your solutions work for any size Tic Tac Toe game. "
   ]
  },
  {
   "cell_type": "markdown",
   "metadata": {},
   "source": [
    "*Exercise 1:* Write a function that creates an n by n matrix (of list of lists) which will represent the state of a Tie Tac Toe game. Let 0, 1, and 2 represent empty, \"X\", and \"O\", respectively.\n"
   ]
  },
  {
   "cell_type": "code",
   "execution_count": 8,
   "metadata": {},
   "outputs": [],
   "source": [
    "# Write you solution here\n",
    "def create_tic_tac_toe_board(n):\n",
    "    board = [[0 for _ in range(n)] for _ in range(n)]\n",
    "    return board"
   ]
  },
  {
   "cell_type": "code",
   "execution_count": 9,
   "metadata": {},
   "outputs": [
    {
     "name": "stdout",
     "output_type": "stream",
     "text": [
      "[0, 0, 0]\n",
      "[0, 0, 0]\n",
      "[0, 0, 0]\n"
     ]
    }
   ],
   "source": [
    "# Test your solution here\n",
    "board = create_tic_tac_toe_board(3)\n",
    "for row in board:\n",
    "    print(row)"
   ]
  },
  {
   "cell_type": "markdown",
   "metadata": {},
   "source": [
    "*Exercise 2:* Write a function that takes 2 integers `n` and `m` as input and draws a `n` by `m` game board. For example the following is a 3x3 board:\n",
    "```\n",
    "   --- --- --- \n",
    "  |   |   |   | \n",
    "   --- --- ---  \n",
    "  |   |   |   | \n",
    "   --- --- ---  \n",
    "  |   |   |   | \n",
    "   --- --- --- \n",
    "   ```"
   ]
  },
  {
   "cell_type": "code",
   "execution_count": 25,
   "metadata": {},
   "outputs": [],
   "source": [
    "# Write you solution here\n",
    "def create_tic_tac_toe_board2(n,m):\n",
    "    for i in range(n):\n",
    "        print(\" ---\" * m)\n",
    "        print(\"|   \" * (m + 1))\n",
    "    print(\" ---\" * m)"
   ]
  },
  {
   "cell_type": "code",
   "execution_count": 26,
   "metadata": {},
   "outputs": [
    {
     "name": "stdout",
     "output_type": "stream",
     "text": [
      " --- --- ---\n",
      "|   |   |   |   \n",
      " --- --- ---\n",
      "|   |   |   |   \n",
      " --- --- ---\n",
      "|   |   |   |   \n",
      " --- --- ---\n"
     ]
    }
   ],
   "source": [
    "# Test your solution here\n",
    "create_tic_tac_toe_board2(3,3)\n"
   ]
  },
  {
   "cell_type": "markdown",
   "metadata": {},
   "source": [
    "*Exercise 3:* Modify exercise 2, so that it takes a matrix of the form from exercise 1 and draws a tic-tac-tie board with \"X\"s and \"O\"s.  "
   ]
  },
  {
   "cell_type": "code",
   "execution_count": 27,
   "metadata": {},
   "outputs": [],
   "source": [
    "# Write you solution here\n",
    "def create_tic_tac_toe_board3(board):\n",
    "    letters = {0: \" \", 1: \"X\", 2: \"O\"}\n",
    "    for row in board:\n",
    "        row_letters = [letters[cell] for cell in row]\n",
    "        print(\" | \".join(row_letters))\n",
    "        print(\"-\" * 9)  \n",
    "\n",
    "\n"
   ]
  },
  {
   "cell_type": "code",
   "execution_count": 28,
   "metadata": {},
   "outputs": [
    {
     "name": "stdout",
     "output_type": "stream",
     "text": [
      "X |   | O\n",
      "---------\n",
      "O |   | X\n",
      "---------\n",
      "  | X | O\n",
      "---------\n"
     ]
    }
   ],
   "source": [
    "# Test your solution here\n",
    "board = [\n",
    "    [1, 0, 2],\n",
    "    [2, 0, 1],\n",
    "    [0, 1, 2]]\n",
    "create_tic_tac_toe_board3(board)"
   ]
  },
  {
   "cell_type": "markdown",
   "metadata": {},
   "source": [
    "*Exercise 4:* Write a function that takes a `n` by `n` matrix representing a tic-tac-toe game, and returns -1, 0, 1, or 2 indicating the game is incomplete, the game is a draw, player 1 has won, or player 2 has one, respectively. Here are some example inputs you can use to test your code:"
   ]
  },
  {
   "cell_type": "code",
   "execution_count": 14,
   "metadata": {},
   "outputs": [],
   "source": [
    "# Write you solution here\n",
    "def check_for_winner(board):\n",
    "    n = len(board)\n",
    "    for i in range(n):\n",
    "        if all(board[i][j] == board[i][0] and board[i][j] != 0 for j in range(n)):\n",
    "            return board[i][0]\n",
    "        if all(board[j][i] == board[0][i] and board [j][i] != 0 for j in range(n)):\n",
    "            return board [0][i]\n",
    "    if all(board[i][i] == board[0][0] and board[i][i] != 0 for i in range(n)):  \n",
    "        return board[0][0]  \n",
    "    if all(board[i][n-i-1] == board[0][n-1] and board[i][n-i-1] != 0 for i in range(n)):  \n",
    "        return board[0][n-1]\n",
    "    for i in range(n):\n",
    "        for j in range(n):\n",
    "            if board[i][j] == 0:\n",
    "                return -1\n",
    "            else:\n",
    "                return 0\n",
    "\n",
    "    \n"
   ]
  },
  {
   "cell_type": "code",
   "execution_count": 15,
   "metadata": {},
   "outputs": [
    {
     "name": "stdout",
     "output_type": "stream",
     "text": [
      "2\n",
      "0\n"
     ]
    }
   ],
   "source": [
    "# Test your solution here\n",
    "winner_is_2 = [[2, 2, 0],\n",
    "\t[2, 1, 0],\n",
    "\t[2, 1, 1]]\n",
    "\n",
    "no_winner = [[1, 2, 0],\n",
    "\t[2, 1, 0],\n",
    "\t[2, 1, 2]]\n",
    "print(check_for_winner(winner_is_2))\n",
    "print(check_for_winner(no_winner))"
   ]
  },
  {
   "cell_type": "code",
   "execution_count": 16,
   "metadata": {},
   "outputs": [],
   "source": [
    "winner_is_2 = [[2, 2, 0],\n",
    "\t[2, 1, 0],\n",
    "\t[2, 1, 1]]\n",
    "\n",
    "winner_is_1 = [[1, 2, 0],\n",
    "\t[2, 1, 0],\n",
    "\t[2, 1, 1]]\n",
    "\n",
    "winner_is_also_1 = [[0, 1, 0],\n",
    "\t[2, 1, 0],\n",
    "\t[2, 1, 1]]\n",
    "\n",
    "no_winner = [[1, 2, 0],\n",
    "\t[2, 1, 0],\n",
    "\t[2, 1, 2]]\n",
    "\n",
    "also_no_winner = [[1, 2, 0],\n",
    "\t[2, 1, 0],\n",
    "\t[2, 1, 0]]"
   ]
  },
  {
   "cell_type": "markdown",
   "metadata": {},
   "source": [
    "*Exercise 5:* Write a function that takes a game board, player number, and `(x,y)` coordinates and places \"X\" or \"O\" in the correct location of the game board. Make sure that you only allow filling previously empty locations. Return `True` or `False` to indicate successful placement of \"X\" or \"O\"."
   ]
  },
  {
   "cell_type": "code",
   "execution_count": 17,
   "metadata": {},
   "outputs": [],
   "source": [
    "# Write you solution here\n",
    "def placement(board, player, x, y):\n",
    "    n = len(board)\n",
    "    if not (0 <= x < n and 0 <= y < n):\n",
    "        return false \n",
    "    if board [x][y] == 0:\n",
    "        board [x][y] = player\n",
    "        return True\n",
    "    else:\n",
    "        return False"
   ]
  },
  {
   "cell_type": "code",
   "execution_count": 18,
   "metadata": {},
   "outputs": [
    {
     "name": "stdout",
     "output_type": "stream",
     "text": [
      "True\n",
      "True\n",
      "[1, 2, 2]\n",
      "[1, 2, 1]\n",
      "[0, 1, 2]\n"
     ]
    }
   ],
   "source": [
    "# Test your solution here\n",
    "game_board = [\n",
    "    [1, 0, 2],\n",
    "    [1, 2, 0], \n",
    "    [0, 1, 2]]\n",
    "print(placement(game_board, 1, 1, 2))\n",
    "print(placement(game_board, 2, 0, 1))\n",
    "for row in game_board:\n",
    "    print(row)\n"
   ]
  },
  {
   "cell_type": "markdown",
   "metadata": {},
   "source": [
    "*Exercise 6:* Modify Exercise 3 to show column and row labels so that players can specify location using \"A2\" or \"C1\"."
   ]
  },
  {
   "cell_type": "code",
   "execution_count": 29,
   "metadata": {},
   "outputs": [],
   "source": [
    "# Write you solution here\n",
    "def create_tic_tac_toe_board4(board):\n",
    "    n = len(board)\n",
    "    letters = \"   \" + \"   \".join(chr(65 + i) for i in range(n))  \n",
    "    print(letters)\n",
    "    \n",
    "    for i in range(n):\n",
    "        row_label = str(i + 1)  \n",
    "        row_content = \" \".join(f\"{'X' if cell == 1 else 'O' if cell == 2 else '.'}\".center(3) for cell in board[i])  \n",
    "        print(row_label + \" \" + row_content)\n",
    "\n"
   ]
  },
  {
   "cell_type": "code",
   "execution_count": 30,
   "metadata": {},
   "outputs": [
    {
     "name": "stdout",
     "output_type": "stream",
     "text": [
      "   A   B   C\n",
      "1  X   .   O \n",
      "2  X   O   . \n",
      "3  .   X   O \n"
     ]
    }
   ],
   "source": [
    "# Test your solution here\n",
    "game_board = [\n",
    "    [1, 0, 2],\n",
    "    [1, 2, 0], \n",
    "    [0, 1, 2]]\n",
    "create_tic_tac_toe_board4(game_board)"
   ]
  },
  {
   "cell_type": "markdown",
   "metadata": {},
   "source": [
    "*Exercise 7:* Write a function that takes a board, player number, and location specified as in exercise 6 and then calls exercise 5 to correctly modify the board.  "
   ]
  },
  {
   "cell_type": "code",
   "execution_count": 21,
   "metadata": {},
   "outputs": [],
   "source": [
    "# Write you solution here\n",
    "def make_move(board, player, move):\n",
    "    n = len(board)\n",
    "    if len(move) != 2:\n",
    "        return False\n",
    "    column_letter = move[0].upper()\n",
    "    row_number = move[1]\n",
    "    x = int(row_number) - 1\n",
    "    y = ord(column_letter) - 65\n",
    "\n",
    "    if board[x][y] ==0:\n",
    "        board[x][y] = player\n",
    "        return True\n",
    "    else: \n",
    "        return False\n",
    "def make_move2(board, player, location):\n",
    "    if make_move(board, player, location):\n",
    "        print(f\"Player {player} placed {'X' if player == 1 else 'O'} at {location}.\")\n",
    "        return True\n",
    "    else:\n",
    "        print(\"Invalid move, go again.\")\n",
    "        return False"
   ]
  },
  {
   "cell_type": "code",
   "execution_count": 31,
   "metadata": {},
   "outputs": [
    {
     "name": "stdout",
     "output_type": "stream",
     "text": [
      "Player 1 placed X at C1.\n",
      "Player 2 placed O at B2.\n",
      "   A   B   C\n",
      "1  .   .   X \n",
      "2  .   O   . \n",
      "3  .   .   . \n"
     ]
    }
   ],
   "source": [
    "# Test your solution here\n",
    "game_board = [\n",
    "    [0, 0, 0],\n",
    "    [0, 0, 0],\n",
    "    [0, 0, 0]]\n",
    "\n",
    "make_move2(game_board, 1, \"C1\")\n",
    "make_move2(game_board, 2, \"B2\")\n",
    "create_tic_tac_toe_board4(game_board)"
   ]
  },
  {
   "cell_type": "markdown",
   "metadata": {},
   "source": [
    "*Exercise 8:* Write a function is called with a board and player number, takes input from the player using python's `input`, and modifies the board using your function from exercise 7. Note that you should keep asking for input until you have gotten a valid input that results in a valid move."
   ]
  },
  {
   "cell_type": "code",
   "execution_count": 23,
   "metadata": {},
   "outputs": [],
   "source": [
    "# Write you solution here\n",
    "def get_move(board, player):\n",
    "    while True:\n",
    "        \n",
    "        move = input(f\"Player {player} ({'X' if player == 1 else 'O'}), Enter your move : \")\n",
    "\n",
    "        \n",
    "        if len(move) != 2 or not move[0].isalpha() or not move[1].isdigit():\n",
    "            print(\"Invalid format. Enter a letter followed by a number (e.g., A1, B2).\")\n",
    "            continue\n",
    "        \n",
    "        if make_move(board, player, move):\n",
    "            break          \n",
    "        else:\n",
    "            print(\"Invalid move. Try again.\")\n",
    "\n",
    "\n",
    " \n",
    "    \n",
    "\n",
    "\n"
   ]
  },
  {
   "cell_type": "code",
   "execution_count": 24,
   "metadata": {},
   "outputs": [
    {
     "name": "stdin",
     "output_type": "stream",
     "text": [
      "Player 1 (X), Enter your move :  b\n"
     ]
    },
    {
     "name": "stdout",
     "output_type": "stream",
     "text": [
      "Invalid format. Enter a letter followed by a number (e.g., A1, B2).\n"
     ]
    },
    {
     "name": "stdin",
     "output_type": "stream",
     "text": [
      "Player 1 (X), Enter your move :  c\n"
     ]
    },
    {
     "name": "stdout",
     "output_type": "stream",
     "text": [
      "Invalid format. Enter a letter followed by a number (e.g., A1, B2).\n"
     ]
    },
    {
     "name": "stdin",
     "output_type": "stream",
     "text": [
      "Player 1 (X), Enter your move :  c1\n"
     ]
    }
   ],
   "source": [
    "# Test your solution here\n",
    "game_board = [\n",
    "    [0, 0, 0],\n",
    "    [0, 0, 0],\n",
    "    [0, 0, 0]]\n",
    "get_move(game_board, 1)"
   ]
  },
  {
   "cell_type": "markdown",
   "metadata": {},
   "source": [
    "*Exercise 9:* Use all of the previous exercises to implement a full tic-tac-toe game, where an appropriate board is drawn, 2 players are repeatedly asked for a location coordinates of where they wish to place a mark, and the game status is checked until a player wins or a draw occurs."
   ]
  },
  {
   "cell_type": "code",
   "execution_count": 34,
   "metadata": {},
   "outputs": [
    {
     "name": "stdout",
     "output_type": "stream",
     "text": [
      "  |   |  \n",
      "---------\n",
      "  |   |  \n",
      "---------\n",
      "  |   |  \n",
      "---------\n"
     ]
    },
    {
     "name": "stdin",
     "output_type": "stream",
     "text": [
      "Player 1 (X), Enter your move:  c1\n"
     ]
    },
    {
     "name": "stdout",
     "output_type": "stream",
     "text": [
      "Player 1 placed X at c1.\n",
      "  |   | X\n",
      "---------\n",
      "  |   |  \n",
      "---------\n",
      "  |   |  \n",
      "---------\n"
     ]
    },
    {
     "name": "stdin",
     "output_type": "stream",
     "text": [
      "Player 2 (O), Enter your move:  a1\n"
     ]
    },
    {
     "name": "stdout",
     "output_type": "stream",
     "text": [
      "Player 2 placed O at a1.\n",
      "O |   | X\n",
      "---------\n",
      "  |   |  \n",
      "---------\n",
      "  |   |  \n",
      "---------\n"
     ]
    },
    {
     "name": "stdin",
     "output_type": "stream",
     "text": [
      "Player 1 (X), Enter your move:  c2\n"
     ]
    },
    {
     "name": "stdout",
     "output_type": "stream",
     "text": [
      "Player 1 placed X at c2.\n",
      "O |   | X\n",
      "---------\n",
      "  |   | X\n",
      "---------\n",
      "  |   |  \n",
      "---------\n"
     ]
    },
    {
     "name": "stdin",
     "output_type": "stream",
     "text": [
      "Player 2 (O), Enter your move:  a3\n"
     ]
    },
    {
     "name": "stdout",
     "output_type": "stream",
     "text": [
      "Player 2 placed O at a3.\n",
      "O |   | X\n",
      "---------\n",
      "  |   | X\n",
      "---------\n",
      "O |   |  \n",
      "---------\n"
     ]
    },
    {
     "name": "stdin",
     "output_type": "stream",
     "text": [
      "Player 1 (X), Enter your move:  c3\n"
     ]
    },
    {
     "name": "stdout",
     "output_type": "stream",
     "text": [
      "Player 1 placed X at c3.\n",
      "O |   | X\n",
      "---------\n",
      "  |   | X\n",
      "---------\n",
      "O |   | X\n",
      "---------\n",
      "Player 1 (X) wins!\n"
     ]
    }
   ],
   "source": [
    "# Write you solution here\n",
    "def create_tic_tac_toe_board(n):\n",
    "    board = [[0 for _ in range(n)] for _ in range(n)]\n",
    "    return board\n",
    "\n",
    "\n",
    "def create_tic_tac_toe_board2(n, m):\n",
    "    for i in range(n):\n",
    "        print(\" ---\" * m)\n",
    "        print(\"|   \" * (m + 1))\n",
    "    print(\" ---\" * m)\n",
    "\n",
    "\n",
    "def create_tic_tac_toe_board3(board):\n",
    "    letters = {0: \" \", 1: \"X\", 2: \"O\"}\n",
    "    for row in board:\n",
    "        row_letters = [letters[cell] for cell in row]\n",
    "        print(\" | \".join(row_letters))\n",
    "        print(\"-\" * 9)\n",
    "\n",
    "\n",
    "def check_for_winner(board):\n",
    "    n = len(board)\n",
    "    for i in range(n):\n",
    "        if all(board[i][j] == board[i][0] and board[i][j] != 0 for j in range(n)):\n",
    "            return board[i][0]\n",
    "        if all(board[j][i] == board[0][i] and board[j][i] != 0 for j in range(n)):\n",
    "            return board[0][i]\n",
    "    if all(board[i][i] == board[0][0] and board[i][i] != 0 for i in range(n)):  \n",
    "        return board[0][0]\n",
    "    if all(board[i][n-i-1] == board[0][n-1] and board[i][n-i-1] != 0 for i in range(n)):  \n",
    "        return board[0][n-1]\n",
    "    for i in range(n):\n",
    "        for j in range(n):\n",
    "            if board[i][j] == 0:\n",
    "                return -1  \n",
    "    return 0  \n",
    "\n",
    "\n",
    "def placement(board, player, x, y):\n",
    "    n = len(board)\n",
    "    if not (0 <= x < n and 0 <= y < n):\n",
    "        return False\n",
    "    if board[x][y] == 0:\n",
    "        board[x][y] = player\n",
    "        return True\n",
    "    else:\n",
    "        return False\n",
    "\n",
    "\n",
    "def create_tic_tac_toe_board4(board):\n",
    "    n = len(board)\n",
    "    letters = \"   \" + \"   \".join(chr(65 + i) for i in range(n))  \n",
    "    print(letters)\n",
    "    \n",
    "    for i in range(n):\n",
    "        row_label = str(i + 1)  \n",
    "        row_content = \" \".join(f\"{'X' if cell == 1 else 'O' if cell == 2 else '.'}\".center(3) for cell in board[i])\n",
    "        print(row_label + \" \" + row_content)\n",
    "\n",
    "\n",
    "def make_move(board, player, move):\n",
    "    n = len(board)\n",
    "    if len(move) != 2:\n",
    "        return False\n",
    "    column_letter = move[0].upper()\n",
    "    row_number = move[1]\n",
    "    x = int(row_number) - 1\n",
    "    y = ord(column_letter) - 65\n",
    "\n",
    "    if board[x][y] == 0:\n",
    "        board[x][y] = player\n",
    "        return True\n",
    "    else:\n",
    "        return False\n",
    "\n",
    "\n",
    "def make_move2(board, player, location):\n",
    "    if make_move(board, player, location):\n",
    "        print(f\"Player {player} placed {'X' if player == 1 else 'O'} at {location}.\")\n",
    "        return True\n",
    "    else:\n",
    "        print(\"Invalid move, try again.\")\n",
    "        return False\n",
    "\n",
    "\n",
    "def get_move(board, player):\n",
    "    while True:\n",
    "        move = input(f\"Player {player} ({'X' if player == 1 else 'O'}), Enter your move: \")\n",
    "\n",
    "        \n",
    "        if len(move) != 2 or not move[0].isalpha() or not move[1].isdigit():\n",
    "            print(\"Invalid format. Enter a letter followed by a number.\")\n",
    "            continue\n",
    "        \n",
    "        \n",
    "        if make_move2(board, player, move):\n",
    "            break  \n",
    "        else:\n",
    "            print(\"Invalid move. Try again.\")\n",
    "\n",
    "\n",
    "def play_game():\n",
    "    board = create_tic_tac_toe_board(3)      \n",
    "    current_player = 1  \n",
    "\n",
    "    while True:\n",
    "        create_tic_tac_toe_board3(board)  \n",
    "\n",
    "        \n",
    "        get_move(board, current_player)\n",
    "\n",
    "        \n",
    "        game_status = check_for_winner(board)\n",
    "\n",
    "        if game_status == 1:\n",
    "            create_tic_tac_toe_board3(board)\n",
    "            print(\"Player 1 (X) wins!\")\n",
    "            break\n",
    "        elif game_status == 2:\n",
    "            create_tic_tac_toe_board3(board)\n",
    "            print(\"Player 2 (O) wins!\")\n",
    "            break\n",
    "        elif game_status == 0:\n",
    "            create_tic_tac_toe_board3(board)\n",
    "            print(\"It's a draw!\")\n",
    "            break\n",
    "\n",
    "       \n",
    "        current_player = 2 if current_player == 1 else 1\n",
    "\n",
    "\n",
    "\n",
    "\n",
    "\n",
    "  \n",
    "        \n",
    "\n",
    "        \n",
    "\n",
    "  \n",
    "  \n",
    "       "
   ]
  },
  {
   "cell_type": "code",
   "execution_count": 35,
   "metadata": {},
   "outputs": [
    {
     "name": "stdout",
     "output_type": "stream",
     "text": [
      "  |   |  \n",
      "---------\n",
      "  |   |  \n",
      "---------\n",
      "  |   |  \n",
      "---------\n"
     ]
    },
    {
     "name": "stdin",
     "output_type": "stream",
     "text": [
      "Player 1 (X), Enter your move:  c1\n"
     ]
    },
    {
     "name": "stdout",
     "output_type": "stream",
     "text": [
      "Player 1 placed X at c1.\n",
      "  |   | X\n",
      "---------\n",
      "  |   |  \n",
      "---------\n",
      "  |   |  \n",
      "---------\n"
     ]
    },
    {
     "name": "stdin",
     "output_type": "stream",
     "text": [
      "Player 2 (O), Enter your move:  a1\n"
     ]
    },
    {
     "name": "stdout",
     "output_type": "stream",
     "text": [
      "Player 2 placed O at a1.\n",
      "O |   | X\n",
      "---------\n",
      "  |   |  \n",
      "---------\n",
      "  |   |  \n",
      "---------\n"
     ]
    },
    {
     "name": "stdin",
     "output_type": "stream",
     "text": [
      "Player 1 (X), Enter your move:  c2\n"
     ]
    },
    {
     "name": "stdout",
     "output_type": "stream",
     "text": [
      "Player 1 placed X at c2.\n",
      "O |   | X\n",
      "---------\n",
      "  |   | X\n",
      "---------\n",
      "  |   |  \n",
      "---------\n"
     ]
    },
    {
     "name": "stdin",
     "output_type": "stream",
     "text": [
      "Player 2 (O), Enter your move:  a3\n"
     ]
    },
    {
     "name": "stdout",
     "output_type": "stream",
     "text": [
      "Player 2 placed O at a3.\n",
      "O |   | X\n",
      "---------\n",
      "  |   | X\n",
      "---------\n",
      "O |   |  \n",
      "---------\n"
     ]
    },
    {
     "name": "stdin",
     "output_type": "stream",
     "text": [
      "Player 1 (X), Enter your move:  c3\n"
     ]
    },
    {
     "name": "stdout",
     "output_type": "stream",
     "text": [
      "Player 1 placed X at c3.\n",
      "O |   | X\n",
      "---------\n",
      "  |   | X\n",
      "---------\n",
      "O |   | X\n",
      "---------\n",
      "Player 1 (X) wins!\n"
     ]
    }
   ],
   "source": [
    "# Test your solution here\n",
    "play_game()"
   ]
  },
  {
   "cell_type": "markdown",
   "metadata": {},
   "source": [
    "*Exercise 10:* Test that your game works for 5x5 Tic Tac Toe.  "
   ]
  },
  {
   "cell_type": "code",
   "execution_count": 38,
   "metadata": {},
   "outputs": [
    {
     "name": "stdout",
     "output_type": "stream",
     "text": [
      "  |   |   |   |  \n",
      "-------------------\n",
      "  |   |   |   |  \n",
      "-------------------\n",
      "  |   |   |   |  \n",
      "-------------------\n",
      "  |   |   |   |  \n",
      "-------------------\n",
      "  |   |   |   |  \n",
      "-------------------\n"
     ]
    },
    {
     "name": "stdin",
     "output_type": "stream",
     "text": [
      "Player 1 (X), Enter your move :  a1\n"
     ]
    },
    {
     "name": "stdout",
     "output_type": "stream",
     "text": [
      "Player 1 placed X at a1.\n",
      "X |   |   |   |  \n",
      "-------------------\n",
      "  |   |   |   |  \n",
      "-------------------\n",
      "  |   |   |   |  \n",
      "-------------------\n",
      "  |   |   |   |  \n",
      "-------------------\n",
      "  |   |   |   |  \n",
      "-------------------\n"
     ]
    },
    {
     "name": "stdin",
     "output_type": "stream",
     "text": [
      "Player 2 (O), Enter your move :  c1\n"
     ]
    },
    {
     "name": "stdout",
     "output_type": "stream",
     "text": [
      "Player 2 placed O at c1.\n",
      "X |   | O |   |  \n",
      "-------------------\n",
      "  |   |   |   |  \n",
      "-------------------\n",
      "  |   |   |   |  \n",
      "-------------------\n",
      "  |   |   |   |  \n",
      "-------------------\n",
      "  |   |   |   |  \n",
      "-------------------\n"
     ]
    },
    {
     "name": "stdin",
     "output_type": "stream",
     "text": [
      "Player 1 (X), Enter your move :  a2\n"
     ]
    },
    {
     "name": "stdout",
     "output_type": "stream",
     "text": [
      "Player 1 placed X at a2.\n",
      "X |   | O |   |  \n",
      "-------------------\n",
      "X |   |   |   |  \n",
      "-------------------\n",
      "  |   |   |   |  \n",
      "-------------------\n",
      "  |   |   |   |  \n",
      "-------------------\n",
      "  |   |   |   |  \n",
      "-------------------\n"
     ]
    },
    {
     "name": "stdin",
     "output_type": "stream",
     "text": [
      "Player 2 (O), Enter your move :  c2\n"
     ]
    },
    {
     "name": "stdout",
     "output_type": "stream",
     "text": [
      "Player 2 placed O at c2.\n",
      "X |   | O |   |  \n",
      "-------------------\n",
      "X |   | O |   |  \n",
      "-------------------\n",
      "  |   |   |   |  \n",
      "-------------------\n",
      "  |   |   |   |  \n",
      "-------------------\n",
      "  |   |   |   |  \n",
      "-------------------\n"
     ]
    },
    {
     "name": "stdin",
     "output_type": "stream",
     "text": [
      "Player 1 (X), Enter your move :  a3\n"
     ]
    },
    {
     "name": "stdout",
     "output_type": "stream",
     "text": [
      "Player 1 placed X at a3.\n",
      "X |   | O |   |  \n",
      "-------------------\n",
      "X |   | O |   |  \n",
      "-------------------\n",
      "X |   |   |   |  \n",
      "-------------------\n",
      "  |   |   |   |  \n",
      "-------------------\n",
      "  |   |   |   |  \n",
      "-------------------\n"
     ]
    },
    {
     "name": "stdin",
     "output_type": "stream",
     "text": [
      "Player 2 (O), Enter your move :  c3\n"
     ]
    },
    {
     "name": "stdout",
     "output_type": "stream",
     "text": [
      "Player 2 placed O at c3.\n",
      "X |   | O |   |  \n",
      "-------------------\n",
      "X |   | O |   |  \n",
      "-------------------\n",
      "X |   | O |   |  \n",
      "-------------------\n",
      "  |   |   |   |  \n",
      "-------------------\n",
      "  |   |   |   |  \n",
      "-------------------\n"
     ]
    },
    {
     "name": "stdin",
     "output_type": "stream",
     "text": [
      "Player 1 (X), Enter your move :  a4\n"
     ]
    },
    {
     "name": "stdout",
     "output_type": "stream",
     "text": [
      "Player 1 placed X at a4.\n",
      "X |   | O |   |  \n",
      "-------------------\n",
      "X |   | O |   |  \n",
      "-------------------\n",
      "X |   | O |   |  \n",
      "-------------------\n",
      "X |   |   |   |  \n",
      "-------------------\n",
      "  |   |   |   |  \n",
      "-------------------\n"
     ]
    },
    {
     "name": "stdin",
     "output_type": "stream",
     "text": [
      "Player 2 (O), Enter your move :  c4\n"
     ]
    },
    {
     "name": "stdout",
     "output_type": "stream",
     "text": [
      "Player 2 placed O at c4.\n",
      "X |   | O |   |  \n",
      "-------------------\n",
      "X |   | O |   |  \n",
      "-------------------\n",
      "X |   | O |   |  \n",
      "-------------------\n",
      "X |   | O |   |  \n",
      "-------------------\n",
      "  |   |   |   |  \n",
      "-------------------\n"
     ]
    },
    {
     "name": "stdin",
     "output_type": "stream",
     "text": [
      "Player 1 (X), Enter your move :  a5\n"
     ]
    },
    {
     "name": "stdout",
     "output_type": "stream",
     "text": [
      "Player 1 placed X at a5.\n",
      "X |   | O |   |  \n",
      "-------------------\n",
      "X |   | O |   |  \n",
      "-------------------\n",
      "X |   | O |   |  \n",
      "-------------------\n",
      "X |   | O |   |  \n",
      "-------------------\n",
      "X |   |   |   |  \n",
      "-------------------\n",
      "Player 1 (X) wins!\n"
     ]
    }
   ],
   "source": [
    "# Test your solution here\n",
    "\n",
    "def create_tic_tac_toe_board(n):\n",
    "    board = [[0 for _ in range(n)] for _ in range(n)]\n",
    "    return board\n",
    "\n",
    "\n",
    "def create_tic_tac_toe_board2(n, m):\n",
    "    for i in range(n):\n",
    "        print(\" ---\" * m)\n",
    "        print(\"|   \" * (m + 1))\n",
    "    print(\" ---\" * m)\n",
    "\n",
    "\n",
    "def create_tic_tac_toe_board3(board):\n",
    "    letters = {0: \" \", 1: \"X\", 2: \"O\"}\n",
    "    for row in board:\n",
    "        row_letters = [letters[cell] for cell in row]\n",
    "        print(\" | \".join(row_letters))\n",
    "        print(\"-\" * (len(row) * 4 - 1))  \n",
    "\n",
    "\n",
    "def check_for_winner(board):\n",
    "    n = len(board)\n",
    "    \n",
    "    for i in range(n):\n",
    "        if all(board[i][j] == board[i][0] and board[i][j] != 0 for j in range(n)):\n",
    "            return board[i][0]\n",
    "        if all(board[j][i] == board[0][i] and board[j][i] != 0 for j in range(n)):\n",
    "            return board[0][i]\n",
    "    \n",
    "    if all(board[i][i] == board[0][0] and board[i][i] != 0 for i in range(n)):  \n",
    "        return board[0][0]\n",
    "    if all(board[i][n-i-1] == board[0][n-1] and board[i][n-i-1] != 0 for i in range(n)):  \n",
    "        return board[0][n-1]\n",
    "    \n",
    "    for i in range(n):\n",
    "        for j in range(n):\n",
    "            if board[i][j] == 0:\n",
    "                return -1  \n",
    "    return 0  \n",
    "\n",
    "\n",
    "def placement(board, player, x, y):\n",
    "    n = len(board)\n",
    "    if not (0 <= x < n and 0 <= y < n):\n",
    "        return False\n",
    "    if board[x][y] == 0:\n",
    "        board[x][y] = player\n",
    "        return True\n",
    "    else:\n",
    "        return False\n",
    "\n",
    "\n",
    "def create_tic_tac_toe_board4(board):\n",
    "    n = len(board)\n",
    "    \n",
    "    letters = \"   \" + \"   \".join(chr(65 + i) for i in range(n))  \n",
    "    print(letters)\n",
    "    \n",
    "    for i in range(n):\n",
    "        row_label = str(i + 1)  # Row labels 1, 2, 3...\n",
    "        row_content = \" \".join(f\"{'X' if cell == 1 else 'O' if cell == 2 else '.'}\".center(3) for cell in board[i])\n",
    "        print(row_label + \" \" + row_content)\n",
    "\n",
    "\n",
    "def make_move(board, player, move):\n",
    "    n = len(board)\n",
    "    if len(move) != 2:\n",
    "        return False\n",
    "    column_letter = move[0].upper()\n",
    "    row_number = move[1]\n",
    "    x = int(row_number) - 1\n",
    "    y = ord(column_letter) - 65\n",
    "\n",
    "    if board[x][y] == 0:\n",
    "        board[x][y] = player\n",
    "        return True\n",
    "    else:\n",
    "        return False\n",
    "\n",
    "\n",
    "def make_move2(board, player, location):\n",
    "    if make_move(board, player, location):\n",
    "        print(f\"Player {player} placed {'X' if player == 1 else 'O'} at {location}.\")\n",
    "        return True\n",
    "    else:\n",
    "        print(\"Invalid move, try again.\")\n",
    "        return False\n",
    "\n",
    "\n",
    "def get_move(board, player):\n",
    "    while True:\n",
    "        move = input(f\"Player {player} ({'X' if player == 1 else 'O'}), Enter your move : \")\n",
    "\n",
    "        \n",
    "        if len(move) != 2 or not move[0].isalpha() or not move[1:].isdigit():\n",
    "            print(\"Invalid format. Enter a letter followed by a number.\")\n",
    "            continue\n",
    "        \n",
    "        \n",
    "        if make_move2(board, player, move):\n",
    "            break  \n",
    "        else:\n",
    "            print(\"Invalid move. Try again.\")\n",
    "\n",
    "\n",
    "def play_game():\n",
    "    board = create_tic_tac_toe_board(5)  \n",
    "    current_player = 1\n",
    "\n",
    "    while True:\n",
    "        create_tic_tac_toe_board3(board)  \n",
    "\n",
    "        \n",
    "        get_move(board, current_player)\n",
    "\n",
    "        \n",
    "        game_status = check_for_winner(board)\n",
    "\n",
    "        if game_status == 1:\n",
    "            create_tic_tac_toe_board3(board)\n",
    "            print(\"Player 1 (X) wins!\")\n",
    "            break\n",
    "        elif game_status == 2:\n",
    "            create_tic_tac_toe_board3(board)\n",
    "            print(\"Player 2 (O) wins!\")\n",
    "            break\n",
    "        elif game_status == 0:\n",
    "            create_tic_tac_toe_board3(board)\n",
    "            print(\"It's a draw!\")\n",
    "            break\n",
    "\n",
    "        \n",
    "        current_player = 2 if current_player == 1 else 1\n",
    "\n",
    "\n",
    "play_game()\n"
   ]
  },
  {
   "cell_type": "markdown",
   "metadata": {},
   "source": [
    "*Exercise 11:* (Advanced / Challenge) Develop a version of the game where one player is the computer. Note that you don't need to do an extensive seach for the best move. You can have the computer simply protect against loosing and otherwise try to win with straight or diagonal patterns."
   ]
  },
  {
   "cell_type": "code",
   "execution_count": null,
   "metadata": {
    "collapsed": true,
    "jupyter": {
     "outputs_hidden": true
    }
   },
   "outputs": [],
   "source": [
    "# Write you solution here"
   ]
  },
  {
   "cell_type": "code",
   "execution_count": null,
   "metadata": {
    "collapsed": true,
    "jupyter": {
     "outputs_hidden": true
    }
   },
   "outputs": [],
   "source": [
    "# Test your solution here"
   ]
  }
 ],
 "metadata": {
  "kernelspec": {
   "display_name": "Python 3 (ipykernel)",
   "language": "python",
   "name": "python3"
  },
  "language_info": {
   "codemirror_mode": {
    "name": "ipython",
    "version": 3
   },
   "file_extension": ".py",
   "mimetype": "text/x-python",
   "name": "python",
   "nbconvert_exporter": "python",
   "pygments_lexer": "ipython3",
   "version": "3.12.8"
  }
 },
 "nbformat": 4,
 "nbformat_minor": 4
}
